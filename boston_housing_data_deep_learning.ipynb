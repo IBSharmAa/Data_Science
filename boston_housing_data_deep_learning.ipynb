import pandas as pd
import tensorflow as tf
from tensorflow.keras import Sequential
from tensorflow.keras.layers import Dense
from tensorflow.keras import Model
from tensorflow.keras import Input
from sklearn.model_selection import train_test_split
from tensorflow.keras import regularizers



d=pd.read_csv("boston_housing.csv")
# d=d.iloc[:,1:] # if you're having id column
x=d.iloc[:,:-1]
y=d.iloc[:,-1:]


xtrain,xtest,ytrain,ytest=(train_test_split(x,y,test_size=0.3))
in_shape=xtrain.shape[1]

x_in=Input(shape=(in_shape,))
in_layer=Dense(13,activation="relu",kernel_initializer="he_normal",bias_initializer='zeros',use_bias=False)(x_in)
hi_layer=Dense(8,activation="relu",kernel_initializer="he_normal",bias_initializer='zeros',use_bias=False)(in_layer)
out_layer=Dense(1)(hi_layer)
model=Model(in_layer,out_layer)
model.compile(optimizer='adam',loss="mae")
model.fit(xtrain,ytrain,epochs=100,batch_size=20,validation_split=0.3,verbose=0)
loss=model.evaluate(xtest,ytest,batch_size=32,verbose=0)
xtest=[[1.23247,0,8.14,0,0.538,6.142,91.7,3.9769,4,307,21,396.9,18.72]]
ypred=model.predict(xtest)
print("LOSS:",loss)
print(ypred)
